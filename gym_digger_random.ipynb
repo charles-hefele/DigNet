{
 "cells": [
  {
   "cell_type": "code",
   "execution_count": 1,
   "id": "emotional-reggae",
   "metadata": {},
   "outputs": [
    {
     "name": "stdout",
     "output_type": "stream",
     "text": [
      "episode: 4, step: 3691, action: 4, reward: 1, tot_reward: -579, done: True, battery: 6678\n",
      "  (Dig)\n",
      "0000000000\n",
      "0000000000\n",
      "0000000000\n",
      "0000000000\n",
      "0000000000\n",
      "0000000000\n",
      "0000000\u001b[41m0\u001b[0m00\n",
      "0000000000\n",
      "0000000000\n",
      "0000000000\n"
     ]
    }
   ],
   "source": [
    "import gym\n",
    "import gym_digger\n",
    "import time\n",
    "from IPython.display import clear_output\n",
    "\n",
    "env = gym.make('Digger-v0')\n",
    "\n",
    "for episode in range(5):\n",
    "    env.reset()\n",
    "    done = False\n",
    "    step = 0\n",
    "    total_reward = 0\n",
    "    while not done:\n",
    "        step += 1\n",
    "        action = env.action_space.sample()\n",
    "        observation, reward, done, info = env.step(action)\n",
    "        battery = info['battery']\n",
    "        total_reward += reward\n",
    "\n",
    "        # print stats\n",
    "        print(f'episode: {episode}, step: {step}, action: {action}, reward: {reward}, tot_reward: {total_reward}, done: {done}, battery: {battery}')\n",
    "\n",
    "        # render it\n",
    "        env.render()\n",
    "\n",
    "        # delay\n",
    "#         time.sleep(0.05)\n",
    "        clear_output(wait=True)\n"
   ]
  },
  {
   "cell_type": "code",
   "execution_count": null,
   "id": "exempt-debate",
   "metadata": {},
   "outputs": [],
   "source": []
  }
 ],
 "metadata": {
  "kernelspec": {
   "display_name": "gym",
   "language": "python",
   "name": "gym"
  },
  "language_info": {
   "codemirror_mode": {
    "name": "ipython",
    "version": 3
   },
   "file_extension": ".py",
   "mimetype": "text/x-python",
   "name": "python",
   "nbconvert_exporter": "python",
   "pygments_lexer": "ipython3",
   "version": "3.8.8"
  }
 },
 "nbformat": 4,
 "nbformat_minor": 5
}
